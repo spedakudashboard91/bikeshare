{
  "nbformat": 4,
  "nbformat_minor": 0,
  "metadata": {
    "colab": {
      "provenance": [],
      "gpuType": "T4"
    },
    "kernelspec": {
      "name": "python3",
      "display_name": "Python 3"
    },
    "language_info": {
      "name": "python"
    },
    "accelerator": "GPU"
  },
  "cells": [
    {
      "cell_type": "code",
      "execution_count": 56,
      "metadata": {
        "colab": {
          "base_uri": "https://localhost:8080/"
        },
        "id": "C3v29ZZ2MuJp",
        "outputId": "2e305b51-a4e1-49f1-f18b-1f6ec36adc6b"
      },
      "outputs": [
        {
          "output_type": "stream",
          "name": "stdout",
          "text": [
            "Requirement already satisfied: streamlit in /usr/local/lib/python3.10/dist-packages (1.41.1)\n",
            "Requirement already satisfied: altair<6,>=4.0 in /usr/local/lib/python3.10/dist-packages (from streamlit) (5.5.0)\n",
            "Requirement already satisfied: blinker<2,>=1.0.0 in /usr/local/lib/python3.10/dist-packages (from streamlit) (1.9.0)\n",
            "Requirement already satisfied: cachetools<6,>=4.0 in /usr/local/lib/python3.10/dist-packages (from streamlit) (5.5.0)\n",
            "Requirement already satisfied: click<9,>=7.0 in /usr/local/lib/python3.10/dist-packages (from streamlit) (8.1.7)\n",
            "Requirement already satisfied: numpy<3,>=1.23 in /usr/local/lib/python3.10/dist-packages (from streamlit) (1.26.4)\n",
            "Requirement already satisfied: packaging<25,>=20 in /usr/local/lib/python3.10/dist-packages (from streamlit) (24.2)\n",
            "Requirement already satisfied: pandas<3,>=1.4.0 in /usr/local/lib/python3.10/dist-packages (from streamlit) (2.2.2)\n",
            "Requirement already satisfied: pillow<12,>=7.1.0 in /usr/local/lib/python3.10/dist-packages (from streamlit) (11.0.0)\n",
            "Requirement already satisfied: protobuf<6,>=3.20 in /usr/local/lib/python3.10/dist-packages (from streamlit) (4.25.5)\n",
            "Requirement already satisfied: pyarrow>=7.0 in /usr/local/lib/python3.10/dist-packages (from streamlit) (17.0.0)\n",
            "Requirement already satisfied: requests<3,>=2.27 in /usr/local/lib/python3.10/dist-packages (from streamlit) (2.32.3)\n",
            "Requirement already satisfied: rich<14,>=10.14.0 in /usr/local/lib/python3.10/dist-packages (from streamlit) (13.9.4)\n",
            "Requirement already satisfied: tenacity<10,>=8.1.0 in /usr/local/lib/python3.10/dist-packages (from streamlit) (9.0.0)\n",
            "Requirement already satisfied: toml<2,>=0.10.1 in /usr/local/lib/python3.10/dist-packages (from streamlit) (0.10.2)\n",
            "Requirement already satisfied: typing-extensions<5,>=4.3.0 in /usr/local/lib/python3.10/dist-packages (from streamlit) (4.12.2)\n",
            "Requirement already satisfied: watchdog<7,>=2.1.5 in /usr/local/lib/python3.10/dist-packages (from streamlit) (6.0.0)\n",
            "Requirement already satisfied: gitpython!=3.1.19,<4,>=3.0.7 in /usr/local/lib/python3.10/dist-packages (from streamlit) (3.1.43)\n",
            "Requirement already satisfied: pydeck<1,>=0.8.0b4 in /usr/local/lib/python3.10/dist-packages (from streamlit) (0.9.1)\n",
            "Requirement already satisfied: tornado<7,>=6.0.3 in /usr/local/lib/python3.10/dist-packages (from streamlit) (6.3.3)\n",
            "Requirement already satisfied: jinja2 in /usr/local/lib/python3.10/dist-packages (from altair<6,>=4.0->streamlit) (3.1.4)\n",
            "Requirement already satisfied: jsonschema>=3.0 in /usr/local/lib/python3.10/dist-packages (from altair<6,>=4.0->streamlit) (4.23.0)\n",
            "Requirement already satisfied: narwhals>=1.14.2 in /usr/local/lib/python3.10/dist-packages (from altair<6,>=4.0->streamlit) (1.18.4)\n",
            "Requirement already satisfied: gitdb<5,>=4.0.1 in /usr/local/lib/python3.10/dist-packages (from gitpython!=3.1.19,<4,>=3.0.7->streamlit) (4.0.11)\n",
            "Requirement already satisfied: python-dateutil>=2.8.2 in /usr/local/lib/python3.10/dist-packages (from pandas<3,>=1.4.0->streamlit) (2.8.2)\n",
            "Requirement already satisfied: pytz>=2020.1 in /usr/local/lib/python3.10/dist-packages (from pandas<3,>=1.4.0->streamlit) (2024.2)\n",
            "Requirement already satisfied: tzdata>=2022.7 in /usr/local/lib/python3.10/dist-packages (from pandas<3,>=1.4.0->streamlit) (2024.2)\n",
            "Requirement already satisfied: charset-normalizer<4,>=2 in /usr/local/lib/python3.10/dist-packages (from requests<3,>=2.27->streamlit) (3.4.0)\n",
            "Requirement already satisfied: idna<4,>=2.5 in /usr/local/lib/python3.10/dist-packages (from requests<3,>=2.27->streamlit) (3.10)\n",
            "Requirement already satisfied: urllib3<3,>=1.21.1 in /usr/local/lib/python3.10/dist-packages (from requests<3,>=2.27->streamlit) (2.2.3)\n",
            "Requirement already satisfied: certifi>=2017.4.17 in /usr/local/lib/python3.10/dist-packages (from requests<3,>=2.27->streamlit) (2024.12.14)\n",
            "Requirement already satisfied: markdown-it-py>=2.2.0 in /usr/local/lib/python3.10/dist-packages (from rich<14,>=10.14.0->streamlit) (3.0.0)\n",
            "Requirement already satisfied: pygments<3.0.0,>=2.13.0 in /usr/local/lib/python3.10/dist-packages (from rich<14,>=10.14.0->streamlit) (2.18.0)\n",
            "Requirement already satisfied: smmap<6,>=3.0.1 in /usr/local/lib/python3.10/dist-packages (from gitdb<5,>=4.0.1->gitpython!=3.1.19,<4,>=3.0.7->streamlit) (5.0.1)\n",
            "Requirement already satisfied: MarkupSafe>=2.0 in /usr/local/lib/python3.10/dist-packages (from jinja2->altair<6,>=4.0->streamlit) (3.0.2)\n",
            "Requirement already satisfied: attrs>=22.2.0 in /usr/local/lib/python3.10/dist-packages (from jsonschema>=3.0->altair<6,>=4.0->streamlit) (24.3.0)\n",
            "Requirement already satisfied: jsonschema-specifications>=2023.03.6 in /usr/local/lib/python3.10/dist-packages (from jsonschema>=3.0->altair<6,>=4.0->streamlit) (2024.10.1)\n",
            "Requirement already satisfied: referencing>=0.28.4 in /usr/local/lib/python3.10/dist-packages (from jsonschema>=3.0->altair<6,>=4.0->streamlit) (0.35.1)\n",
            "Requirement already satisfied: rpds-py>=0.7.1 in /usr/local/lib/python3.10/dist-packages (from jsonschema>=3.0->altair<6,>=4.0->streamlit) (0.22.3)\n",
            "Requirement already satisfied: mdurl~=0.1 in /usr/local/lib/python3.10/dist-packages (from markdown-it-py>=2.2.0->rich<14,>=10.14.0->streamlit) (0.1.2)\n",
            "Requirement already satisfied: six>=1.5 in /usr/local/lib/python3.10/dist-packages (from python-dateutil>=2.8.2->pandas<3,>=1.4.0->streamlit) (1.17.0)\n"
          ]
        }
      ],
      "source": [
        "!pip install streamlit"
      ]
    },
    {
      "cell_type": "code",
      "source": [
        "!pip install pyngrok"
      ],
      "metadata": {
        "colab": {
          "base_uri": "https://localhost:8080/"
        },
        "id": "qVD72kaLiLVZ",
        "outputId": "44c2491c-387c-4c32-b110-0e0a8fd56263"
      },
      "execution_count": 59,
      "outputs": [
        {
          "output_type": "stream",
          "name": "stdout",
          "text": [
            "Collecting pyngrok\n",
            "  Downloading pyngrok-7.2.2-py3-none-any.whl.metadata (8.4 kB)\n",
            "Requirement already satisfied: PyYAML>=5.1 in /usr/local/lib/python3.10/dist-packages (from pyngrok) (6.0.2)\n",
            "Downloading pyngrok-7.2.2-py3-none-any.whl (22 kB)\n",
            "Installing collected packages: pyngrok\n",
            "Successfully installed pyngrok-7.2.2\n"
          ]
        }
      ]
    },
    {
      "cell_type": "code",
      "source": [
        "!pip install streamlit pandas numpy seaborn matplotlib plotly"
      ],
      "metadata": {
        "colab": {
          "base_uri": "https://localhost:8080/"
        },
        "id": "MTjqcLMGi15n",
        "outputId": "8335fa0b-becf-4ac0-a813-33383f77c485"
      },
      "execution_count": 61,
      "outputs": [
        {
          "output_type": "stream",
          "name": "stdout",
          "text": [
            "Requirement already satisfied: streamlit in /usr/local/lib/python3.10/dist-packages (1.41.1)\n",
            "Requirement already satisfied: pandas in /usr/local/lib/python3.10/dist-packages (2.2.2)\n",
            "Requirement already satisfied: numpy in /usr/local/lib/python3.10/dist-packages (1.26.4)\n",
            "Requirement already satisfied: seaborn in /usr/local/lib/python3.10/dist-packages (0.13.2)\n",
            "Requirement already satisfied: matplotlib in /usr/local/lib/python3.10/dist-packages (3.8.0)\n",
            "Requirement already satisfied: plotly in /usr/local/lib/python3.10/dist-packages (5.24.1)\n",
            "Requirement already satisfied: altair<6,>=4.0 in /usr/local/lib/python3.10/dist-packages (from streamlit) (5.5.0)\n",
            "Requirement already satisfied: blinker<2,>=1.0.0 in /usr/local/lib/python3.10/dist-packages (from streamlit) (1.9.0)\n",
            "Requirement already satisfied: cachetools<6,>=4.0 in /usr/local/lib/python3.10/dist-packages (from streamlit) (5.5.0)\n",
            "Requirement already satisfied: click<9,>=7.0 in /usr/local/lib/python3.10/dist-packages (from streamlit) (8.1.7)\n",
            "Requirement already satisfied: packaging<25,>=20 in /usr/local/lib/python3.10/dist-packages (from streamlit) (24.2)\n",
            "Requirement already satisfied: pillow<12,>=7.1.0 in /usr/local/lib/python3.10/dist-packages (from streamlit) (11.0.0)\n",
            "Requirement already satisfied: protobuf<6,>=3.20 in /usr/local/lib/python3.10/dist-packages (from streamlit) (4.25.5)\n",
            "Requirement already satisfied: pyarrow>=7.0 in /usr/local/lib/python3.10/dist-packages (from streamlit) (17.0.0)\n",
            "Requirement already satisfied: requests<3,>=2.27 in /usr/local/lib/python3.10/dist-packages (from streamlit) (2.32.3)\n",
            "Requirement already satisfied: rich<14,>=10.14.0 in /usr/local/lib/python3.10/dist-packages (from streamlit) (13.9.4)\n",
            "Requirement already satisfied: tenacity<10,>=8.1.0 in /usr/local/lib/python3.10/dist-packages (from streamlit) (9.0.0)\n",
            "Requirement already satisfied: toml<2,>=0.10.1 in /usr/local/lib/python3.10/dist-packages (from streamlit) (0.10.2)\n",
            "Requirement already satisfied: typing-extensions<5,>=4.3.0 in /usr/local/lib/python3.10/dist-packages (from streamlit) (4.12.2)\n",
            "Requirement already satisfied: watchdog<7,>=2.1.5 in /usr/local/lib/python3.10/dist-packages (from streamlit) (6.0.0)\n",
            "Requirement already satisfied: gitpython!=3.1.19,<4,>=3.0.7 in /usr/local/lib/python3.10/dist-packages (from streamlit) (3.1.43)\n",
            "Requirement already satisfied: pydeck<1,>=0.8.0b4 in /usr/local/lib/python3.10/dist-packages (from streamlit) (0.9.1)\n",
            "Requirement already satisfied: tornado<7,>=6.0.3 in /usr/local/lib/python3.10/dist-packages (from streamlit) (6.3.3)\n",
            "Requirement already satisfied: python-dateutil>=2.8.2 in /usr/local/lib/python3.10/dist-packages (from pandas) (2.8.2)\n",
            "Requirement already satisfied: pytz>=2020.1 in /usr/local/lib/python3.10/dist-packages (from pandas) (2024.2)\n",
            "Requirement already satisfied: tzdata>=2022.7 in /usr/local/lib/python3.10/dist-packages (from pandas) (2024.2)\n",
            "Requirement already satisfied: contourpy>=1.0.1 in /usr/local/lib/python3.10/dist-packages (from matplotlib) (1.3.1)\n",
            "Requirement already satisfied: cycler>=0.10 in /usr/local/lib/python3.10/dist-packages (from matplotlib) (0.12.1)\n",
            "Requirement already satisfied: fonttools>=4.22.0 in /usr/local/lib/python3.10/dist-packages (from matplotlib) (4.55.3)\n",
            "Requirement already satisfied: kiwisolver>=1.0.1 in /usr/local/lib/python3.10/dist-packages (from matplotlib) (1.4.7)\n",
            "Requirement already satisfied: pyparsing>=2.3.1 in /usr/local/lib/python3.10/dist-packages (from matplotlib) (3.2.0)\n",
            "Requirement already satisfied: jinja2 in /usr/local/lib/python3.10/dist-packages (from altair<6,>=4.0->streamlit) (3.1.4)\n",
            "Requirement already satisfied: jsonschema>=3.0 in /usr/local/lib/python3.10/dist-packages (from altair<6,>=4.0->streamlit) (4.23.0)\n",
            "Requirement already satisfied: narwhals>=1.14.2 in /usr/local/lib/python3.10/dist-packages (from altair<6,>=4.0->streamlit) (1.18.4)\n",
            "Requirement already satisfied: gitdb<5,>=4.0.1 in /usr/local/lib/python3.10/dist-packages (from gitpython!=3.1.19,<4,>=3.0.7->streamlit) (4.0.11)\n",
            "Requirement already satisfied: six>=1.5 in /usr/local/lib/python3.10/dist-packages (from python-dateutil>=2.8.2->pandas) (1.17.0)\n",
            "Requirement already satisfied: charset-normalizer<4,>=2 in /usr/local/lib/python3.10/dist-packages (from requests<3,>=2.27->streamlit) (3.4.0)\n",
            "Requirement already satisfied: idna<4,>=2.5 in /usr/local/lib/python3.10/dist-packages (from requests<3,>=2.27->streamlit) (3.10)\n",
            "Requirement already satisfied: urllib3<3,>=1.21.1 in /usr/local/lib/python3.10/dist-packages (from requests<3,>=2.27->streamlit) (2.2.3)\n",
            "Requirement already satisfied: certifi>=2017.4.17 in /usr/local/lib/python3.10/dist-packages (from requests<3,>=2.27->streamlit) (2024.12.14)\n",
            "Requirement already satisfied: markdown-it-py>=2.2.0 in /usr/local/lib/python3.10/dist-packages (from rich<14,>=10.14.0->streamlit) (3.0.0)\n",
            "Requirement already satisfied: pygments<3.0.0,>=2.13.0 in /usr/local/lib/python3.10/dist-packages (from rich<14,>=10.14.0->streamlit) (2.18.0)\n",
            "Requirement already satisfied: smmap<6,>=3.0.1 in /usr/local/lib/python3.10/dist-packages (from gitdb<5,>=4.0.1->gitpython!=3.1.19,<4,>=3.0.7->streamlit) (5.0.1)\n",
            "Requirement already satisfied: MarkupSafe>=2.0 in /usr/local/lib/python3.10/dist-packages (from jinja2->altair<6,>=4.0->streamlit) (3.0.2)\n",
            "Requirement already satisfied: attrs>=22.2.0 in /usr/local/lib/python3.10/dist-packages (from jsonschema>=3.0->altair<6,>=4.0->streamlit) (24.3.0)\n",
            "Requirement already satisfied: jsonschema-specifications>=2023.03.6 in /usr/local/lib/python3.10/dist-packages (from jsonschema>=3.0->altair<6,>=4.0->streamlit) (2024.10.1)\n",
            "Requirement already satisfied: referencing>=0.28.4 in /usr/local/lib/python3.10/dist-packages (from jsonschema>=3.0->altair<6,>=4.0->streamlit) (0.35.1)\n",
            "Requirement already satisfied: rpds-py>=0.7.1 in /usr/local/lib/python3.10/dist-packages (from jsonschema>=3.0->altair<6,>=4.0->streamlit) (0.22.3)\n",
            "Requirement already satisfied: mdurl~=0.1 in /usr/local/lib/python3.10/dist-packages (from markdown-it-py>=2.2.0->rich<14,>=10.14.0->streamlit) (0.1.2)\n"
          ]
        }
      ]
    },
    {
      "cell_type": "code",
      "source": [
        "# Libraries Used\n",
        "import numpy as np\n",
        "import pandas as pd\n",
        "import matplotlib.pyplot as plt\n",
        "import seaborn as sns\n",
        "import plotly.express as px\n",
        "from datetime import datetime\n",
        "import streamlit as st"
      ],
      "metadata": {
        "id": "saXDjk8bM9i_"
      },
      "execution_count": 4,
      "outputs": []
    },
    {
      "cell_type": "code",
      "source": [
        "# Libraries Used\n",
        "import numpy as np\n",
        "import pandas as pd\n",
        "import matplotlib.pyplot as plt\n",
        "import seaborn as sns\n",
        "import plotly.express as px\n",
        "from datetime import datetime\n",
        "import streamlit as st\n",
        "from google.colab import drive\n",
        "\n",
        "# Mount Google Drive\n",
        "drive.mount('/content/drive')\n",
        "\n",
        "\n",
        "# Libraries Used\n",
        "app_code = \"\"\"\n",
        "import numpy as np\n",
        "import pandas as pd\n",
        "import matplotlib.pyplot as plt\n",
        "import seaborn as sns\n",
        "import plotly.express as px\n",
        "from datetime import datetime\n",
        "import streamlit as st\n",
        "from google.colab import drive\n",
        "\n",
        "# Mount Google Drive\n",
        "drive.mount('/content/drive')\n",
        "\n",
        "# Load Data\n",
        "day_data = pd.read_csv('/content/drive/MyDrive/Notebook_bike_sharing_dataset/Dashboard/day_dataset.csv')\n",
        "\n",
        "# Data Cleaning and Preparation\n",
        "if 'instant' in day_data.columns:\n",
        "    day_data.drop(columns=['instant'], inplace=True)\n",
        "else:\n",
        "    print(\"Column 'instant' not found in DataFrame.\")\n",
        "\n",
        "day_data['dteday'] = pd.to_datetime(day_data['dteday'])\n",
        "day_data['weekday'] = day_data['dteday'].dt.day_name()\n",
        "day_data['year'] = day_data['dteday'].dt.year\n",
        "day_data['season'] = day_data['season'].map({1: 'Spring', 2: 'Summer', 3: 'Fall', 4: 'Winter'})\n",
        "day_data['weathersit'] = day_data['weathersit'].map({\n",
        "    1: 'Clear/Partly Cloudy',\n",
        "    2: 'Misty/Cloudy',\n",
        "    3: 'Light Snow/Rain',\n",
        "    4: 'Severe Weather'\n",
        "})\n",
        "\n",
        "# Resampling data based on month and calculating total rides\n",
        "monthly_rent_df = day_data.resample(rule='M', on='dteday').agg({\n",
        "    \"casual\": \"sum\",\n",
        "    \"registered\": \"sum\",\n",
        "    \"cnt\": \"sum\"\n",
        "})\n",
        "monthly_rent_df.index = monthly_rent_df.index.strftime('%b-%y')\n",
        "monthly_rent_df = monthly_rent_df.reset_index()\n",
        "monthly_rent_df.rename(columns={\"dateday\": \"yearmonth\", \"count\": \"total_rides\", \"casual\": \"casual_rides\", \"registered\": \"registered_rides\"}, inplace=True)\n",
        "\n",
        "# Additional Data Preparation\n",
        "day_data['month'] = pd.to_datetime(day_data['dteday']).dt.month\n",
        "aggregated_stats_by_month = day_data.groupby('month')['cnt'].agg(['max', 'min', 'mean', 'sum'])\n",
        "aggregated_stats_by_weather = day_data.groupby('weathersit')['cnt'].agg(['max', 'min', 'mean', 'sum'])\n",
        "aggregated_stats_by_holiday = day_data.groupby('holiday')['cnt'].agg(['max', 'min', 'mean', 'sum'])\n",
        "aggregated_stats_by_weekday = day_data.groupby('weekday')['cnt'].agg(['max', 'min', 'mean'])\n",
        "aggregated_stats_by_season = day_data.groupby('season').agg({\n",
        "    'casual': 'mean',\n",
        "    'registered': 'mean',\n",
        "    'cnt': ['max', 'min', 'mean']\n",
        "})\n",
        "aggregated_stats_by_season_temp = day_data.groupby('season').agg({\n",
        "    'temp': ['max', 'min', 'mean'],\n",
        "    'atemp': ['max', 'min', 'mean'],\n",
        "    'hum': ['max', 'min', 'mean']\n",
        "})\n",
        "\n",
        "# Streamlit App\n",
        "st.sidebar.image(\"https://freeimghost.net/i/WhatsApp-Image-2024-12-27-at-10.10.29-PM.cBUGk\")\n",
        "st.sidebar.header(\"Filter:\")\n",
        "min_date = day_data[\"dteday\"].min()\n",
        "max_date = day_data[\"dteday\"].max()\n",
        "start_date, end_date = st.sidebar.date_input(\n",
        "    label=\"Date\",\n",
        "    min_value=min_date,\n",
        "    max_value=max_date,\n",
        "    value=[min_date, max_date]\n",
        ")\n",
        "st.sidebar.header(\"Terhubung dengan saya:\")\n",
        "st.sidebar.markdown(\"Dora Leonny Giselle\")\n",
        "col1 = st.sidebar\n",
        "with col1:\n",
        "    st.markdown(\"[![LinkedIn]](https://www.linkedin.com/in/dora-leonny-gise-932584275/)\")\n",
        "st.sidebar.markdown(\"For inquiries and collaborations, feel free to contact me!\")\n",
        "st.sidebar.markdown(\"---\")\n",
        "st.sidebar.markdown(\"[Dataset](https://drive.google.com/drive/folders/1abMuFsXxzeTbQerSUf3c_n9UTM4GZzA6?usp=sharing)\")\n",
        "\n",
        "main_df = day_data[\n",
        "    (day_data[\"dteday\"] >= str(start_date)) &\n",
        "    (day_data[\"dteday\"] <= str(end_date))\n",
        "]\n",
        "\n",
        "st.title(\"🚲 Bike Sharing Dashboard 🚲!\")\n",
        "st.markdown(\"##\")\n",
        "\n",
        "col1, col2, col3 = st.columns(3)\n",
        "with col1:\n",
        "    total_all_rides = main_df['cnt'].sum()\n",
        "    st.metric(\"Total Rides\", value=total_all_rides)\n",
        "with col2:\n",
        "    total_casual_rides = main_df['casual'].sum()\n",
        "    st.metric(\"Total Casual Rides\", value=total_casual_rides)\n",
        "with col3:\n",
        "    total_registered_rides = main_df['registered'].sum()\n",
        "    st.metric(\"Total Registered Rides\", value=total_registered_rides)\n",
        "\n",
        "st.markdown(\"---\")\n",
        "\n",
        "with st.container():\n",
        "    st.write('## 🔄 Distribusi Penyewaan Sepeda pada Hari Kerja dan Hari Libur')\n",
        "    filtered_data = main_df\n",
        "    working_day = filtered_data[filtered_data['workingday'] == 1]['cnt']\n",
        "    holiday = filtered_data[filtered_data['holiday'] == 1]['cnt']\n",
        "    fig, ax = plt.subplots(figsize=(10, 6))\n",
        "    sns.histplot(working_day, color='blue', kde=True, label='Hari Kerja', ax=ax)\n",
        "    sns.histplot(holiday, color='black', kde=True, label='Hari Libur', ax=ax)\n",
        "    ax.set_title(\"Distribusi Penyewaan Sepeda pada Hari Kerja dan Hari Libur\", fontsize=16)\n",
        "    ax.set_xlabel(\"Total Penyewaan Sepeda\", fontsize=14)\n",
        "    ax.set_ylabel(\"Frekuensi\", fontsize=14)\n",
        "    ax.legend()\n",
        "    st.pyplot(fig)\n",
        "\n",
        "\n",
        "with st.container():\n",
        "    st.write('## 🌧️ Pengaruh Kondisi Cuaca terhadap Penggunaan Sepeda')\n",
        "    fig, ax = plt.subplots(figsize=(12, 6))\n",
        "    sns.boxplot(x='weathersit', y='cnt', data=filtered_data, ax=ax, palette=\"Set2\")\n",
        "    ax.set_title('Pengaruh Kondisi Cuaca terhadap Penggunaan Sepeda', fontsize=16)\n",
        "    ax.set_xlabel('Kondisi Cuaca', fontsize=12)\n",
        "    ax.set_ylabel('Total Penggunaan Sepeda', fontsize=14)\n",
        "    ax.set_xticks([0, 1, 2])\n",
        "    ax.set_xticklabels(['Cerah', 'Berkabut + Berawan', 'Hujan/Snow Ringan'])\n",
        "    st.pyplot(fig)\n",
        "\n",
        "fig1 = px.box(day_data, x='workingday', y='cnt', color='workingday',\n",
        "              title='Bike Rental Clusters by Working Day',\n",
        "              labels={'workingday': 'Working Day', 'cnt': 'Total Rentals'},\n",
        "              color_discrete_sequence=['#00FFFF', '#FF00FF', '#FFFF00', '#00FF00', '#FF0000'])\n",
        "fig1.update_xaxes(title_text='Working Day')\n",
        "fig1.update_yaxes(title_text='Total Rentals')\n",
        "st.plotly_chart(fig1, use_container_width=True)\n",
        "\n",
        "fig2 = px.box(day_data, x='holiday', y='cnt', color='holiday',\n",
        "              title='Bike Rental Clusters by Holiday',\n",
        "              labels={'holiday': 'Holiday', 'cnt': 'Total Rentals'},\n",
        "              color_discrete_sequence=['#00FFFF', '#FF00FF', '#FFFF00', '#00FF00', '#FF0000'])\n",
        "fig2.update_xaxes(title_text='Holiday')\n",
        "fig2.update_yaxes(title_text='Total Rentals')\n",
        "st.plotly_chart(fig2, use_container_width=True)\n",
        "\n",
        "fig3 = px.box(day_data, x='weekday', y='cnt', color='weekday',\n",
        "              title='Bike Rental Clusters by Weekday',\n",
        "              labels={'weekday': 'Weekday', 'cnt': 'Total Rentals'},\n",
        "              color_discrete_sequence=['#00FFFF', '#FF00FF', '#FFFF00', '#00FF00', '#FF0000'])\n",
        "fig3.update_xaxes(title_text='Weekday')\n",
        "fig3.update_yaxes(title_text='Total Rentals')\n",
        "st.plotly_chart(fig3, use_container_width=True)\n",
        "\n",
        "fig = px.scatter(day_data, x='temp', y='cnt', color='season',\n",
        "                 title='Bike Rental Clusters by Temperature',\n",
        "                 labels={'temp': 'Temperature', 'cnt': 'Total Rentals'},\n",
        "                 color_discrete_sequence=['#00FFFF', '#FF00FF', '#FFFF00', '#00FF00', '#FF0000'])\n",
        "fig.update_xaxes(title_text='Temperature')\n",
        "fig.update_yaxes(title_text='Total Rentals')\n",
        "st.plotly_chart(fig, use_container_width=True)\n",
        "\"\"\"\n",
        "# Simpan kode ke file app.py\n",
        "with open('app.py', 'w') as f:\n",
        "    f.write(app_code)\n",
        "\n",
        "print(\"File app.py telah dibuat.\")\n"
      ],
      "metadata": {
        "colab": {
          "base_uri": "https://localhost:8080/"
        },
        "id": "OXTK0jB6nQOI",
        "outputId": "748a6965-5c78-456d-dfb1-43f794e38992"
      },
      "execution_count": 67,
      "outputs": [
        {
          "output_type": "stream",
          "name": "stdout",
          "text": [
            "Drive already mounted at /content/drive; to attempt to forcibly remount, call drive.mount(\"/content/drive\", force_remount=True).\n",
            "File app.py telah dibuat.\n"
          ]
        }
      ]
    },
    {
      "cell_type": "code",
      "source": [
        "#Buat script untuk menjalankan Streamlit:\n",
        "%%writefile run_streamlit.sh\n",
        "streamlit run app.py & npx localtunnel --port 8501"
      ],
      "metadata": {
        "colab": {
          "base_uri": "https://localhost:8080/"
        },
        "id": "8s5fr0vqoh9w",
        "outputId": "0447aa11-8f7f-4ee6-c374-a714cce7f750"
      },
      "execution_count": 68,
      "outputs": [
        {
          "output_type": "stream",
          "name": "stdout",
          "text": [
            "Writing run_streamlit.sh\n"
          ]
        }
      ]
    },
    {
      "cell_type": "code",
      "source": [
        "#Berikan izin eksekusi:\n",
        "!chmod +x run_streamlit.sh"
      ],
      "metadata": {
        "id": "j3KRkZrsol5G"
      },
      "execution_count": 69,
      "outputs": []
    },
    {
      "cell_type": "code",
      "source": [
        "#Jalankan aplikasi\n",
        "# Sel untuk menjalankan Streamlit\n",
        "!streamlit run app.py"
      ],
      "metadata": {
        "colab": {
          "base_uri": "https://localhost:8080/"
        },
        "id": "-56qespAonrp",
        "outputId": "18f8e6cb-e3a5-4738-e2fb-4411b79717ca"
      },
      "execution_count": 70,
      "outputs": [
        {
          "output_type": "stream",
          "name": "stdout",
          "text": [
            "\n",
            "Collecting usage statistics. To deactivate, set browser.gatherUsageStats to false.\n",
            "\u001b[0m\n",
            "\u001b[0m\n",
            "\u001b[34m\u001b[1m  You can now view your Streamlit app in your browser.\u001b[0m\n",
            "\u001b[0m\n",
            "\u001b[34m  Local URL: \u001b[0m\u001b[1mhttp://localhost:8501\u001b[0m\n",
            "\u001b[34m  Network URL: \u001b[0m\u001b[1mhttp://172.28.0.12:8501\u001b[0m\n",
            "\u001b[34m  External URL: \u001b[0m\u001b[1mhttp://34.125.222.60:8501\u001b[0m\n",
            "\u001b[0m\n",
            "\u001b[34m  Stopping...\u001b[0m\n",
            "\u001b[34m  Stopping...\u001b[0m\n",
            "Exception ignored in atexit callback: <function shutdown at 0x7eac3495f9a0>\n",
            "Traceback (most recent call last):\n",
            "  File \"/usr/lib/python3.10/logging/__init__.py\", line 2182, in shutdown\n",
            "    h.flush()\n",
            "  File \"/usr/lib/python3.10/logging/__init__.py\", line 1081, in flush\n",
            "    self.acquire()\n",
            "  File \"/usr/lib/python3.10/logging/__init__.py\", line 917, in acquire\n",
            "    self.lock.acquire()\n",
            "  File \"/usr/local/lib/python3.10/dist-packages/streamlit/web/bootstrap.py\", line 44, in signal_handler\n",
            "    server.stop()\n",
            "  File \"/usr/local/lib/python3.10/dist-packages/streamlit/web/server/server.py\", line 432, in stop\n",
            "    self._runtime.stop()\n",
            "  File \"/usr/local/lib/python3.10/dist-packages/streamlit/runtime/runtime.py\", line 324, in stop\n",
            "    async_objs.eventloop.call_soon_threadsafe(stop_on_eventloop)\n",
            "  File \"/usr/lib/python3.10/asyncio/base_events.py\", line 798, in call_soon_threadsafe\n",
            "    self._check_closed()\n",
            "  File \"/usr/lib/python3.10/asyncio/base_events.py\", line 515, in _check_closed\n",
            "    raise RuntimeError('Event loop is closed')\n",
            "RuntimeError: Event loop is closed\n"
          ]
        }
      ]
    }
  ]
}